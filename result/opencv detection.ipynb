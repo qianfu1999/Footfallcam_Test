{
 "cells": [
  {
   "cell_type": "markdown",
   "id": "3c3a82f9",
   "metadata": {},
   "source": [
    "## Library & Settings"
   ]
  },
  {
   "cell_type": "code",
   "execution_count": 1,
   "id": "ecfb4a36",
   "metadata": {},
   "outputs": [],
   "source": [
    "import cv2\n",
    "import torch\n",
    "import numpy as np\n",
    "import csv\n",
    "import pandas as pd"
   ]
  },
  {
   "cell_type": "code",
   "execution_count": 2,
   "id": "887184dd",
   "metadata": {
    "scrolled": true
   },
   "outputs": [
    {
     "name": "stderr",
     "output_type": "stream",
     "text": [
      "Downloading: \"https://github.com/ultralytics/yolov5/zipball/master\" to C:\\Users\\PC/.cache\\torch\\hub\\master.zip\n",
      "YOLOv5  2023-10-10 Python-3.11.4 torch-2.1.0+cpu CPU\n",
      "\n",
      "Fusing layers... \n",
      "Model summary: 157 layers, 7015519 parameters, 0 gradients, 15.8 GFLOPs\n",
      "Adding AutoShape... \n"
     ]
    }
   ],
   "source": [
    "model=torch.hub.load('ultralytics/yolov5','custom',path='C:/Users/PC/Desktop/job/Object detect/result/last.pt',force_reload=True)"
   ]
  },
  {
   "cell_type": "markdown",
   "id": "52843c11",
   "metadata": {},
   "source": [
    "## Function\n",
    "\n",
    "Function here is to set up to class and help prediction process"
   ]
  },
  {
   "cell_type": "code",
   "execution_count": 12,
   "id": "dcecc02b",
   "metadata": {},
   "outputs": [],
   "source": [
    "def class_to_label(x):\n",
    "    classes=model.names\n",
    "    return classes[int(x)]\n",
    "\n",
    "def score_frame(frame):\n",
    "    frame=[frame]\n",
    "    result=model(frame)\n",
    "    labels,cord = result.xyxyn[0][:,-1],result.xyxyn[0][:,:-1]\n",
    "    \n",
    "    return labels, cord\n",
    "\n",
    "def plot_boxes(results,frame):\n",
    "    labels,cord =results\n",
    "    n=len(labels)\n",
    "    x_shape,y_shape = frame.shape[1],frame.shape[0]\n",
    "    for i in range (n):\n",
    "        row = cord[i]\n",
    "        if row[4]>=0.4:\n",
    "            x1,y1,x2,y2 = int (row[0]*x_shape),int(row[1]*y_shape) , int (row[2]*x_shape), int(row[3]*y_shape)\n",
    "            bgr=(0,255,0)\n",
    "            cv2.rectangle(frame,(x1,y1),(x2,y2),bgr,2)\n",
    "            \n",
    "            cv2.putText(frame,class_to_label(labels[i]),(x1,y1),cv2.FONT_HERSHEY_SIMPLEX,0.9,(0,255,0),2)\n",
    "            \n",
    "    return frame    "
   ]
  },
  {
   "cell_type": "markdown",
   "id": "2d2f38b5",
   "metadata": {},
   "source": [
    "## Prediction\n",
    "\n",
    "Make Prediction and labels the target,nametag "
   ]
  },
  {
   "cell_type": "code",
   "execution_count": 13,
   "id": "1f4c1d87",
   "metadata": {
    "scrolled": true
   },
   "outputs": [],
   "source": [
    "video_path=\"C:/Users/PC/Desktop/job/Object detect/sample.mp4\"\n",
    "capture=cv2.VideoCapture(video_path)\n",
    "frame_get=0\n",
    "while True:\n",
    "    success, img = capture.read()\n",
    "    if not success:\n",
    "        print(\"Frame Not Found\")\n",
    "        break\n",
    "    results=score_frame(img)\n",
    "\n",
    "    \n",
    "    frame=plot_boxes(results,img)\n",
    "    \n",
    "    frame_get+=1\n",
    "    cv2.imshow('Result',img)\n",
    "    \n",
    "    if cv2.waitKey(10) & 0xFF == ord('q'):\n",
    "        break\n",
    "\n",
    "    \n",
    "    \n",
    "capture.release()\n",
    "cv2.destroyWindow('Result')    "
   ]
  },
  {
   "cell_type": "markdown",
   "id": "546046e2",
   "metadata": {},
   "source": [
    "# Coordinate"
   ]
  },
  {
   "cell_type": "code",
   "execution_count": 3,
   "id": "843910fa",
   "metadata": {},
   "outputs": [],
   "source": [
    "fields=['x-1','y-1','x-2','y-2','confidence score','label','Name']\n",
    "data=[]\n",
    "frame_num=[]\n",
    "def coordinate(frame,frame_get):\n",
    "    result=model(frame)        \n",
    "    for imgs in result.pandas().xyxy:\n",
    "        for b in imgs.to_numpy():\n",
    "            data.append(b)\n",
    "            frame_num.append(frame_get)\n",
    "            \n",
    "            \n",
    "    with open(\"C:/Users/PC/Desktop/job/Object detect/result/coordinate.csv\", \"w\") as file:\n",
    "        writer = csv.writer(file,skipinitialspace=True)\n",
    "        writer.writerow(fields)\n",
    "        writer.writerows(data)\n",
    "        file.close()\n",
    "    \n",
    "    \n",
    "    csv_input = pd.read_csv('C:/Users/PC/Desktop/job/Object detect/result/coordinate.csv')\n",
    "    csv_input['Frame'] = frame_num\n",
    "    csv_input.to_csv('output.csv', index=False)"
   ]
  },
  {
   "cell_type": "code",
   "execution_count": 4,
   "id": "a97e948d",
   "metadata": {},
   "outputs": [
    {
     "name": "stdout",
     "output_type": "stream",
     "text": [
      "Frame Not Found\n"
     ]
    }
   ],
   "source": [
    "video_path=\"C:/Users/PC/Desktop/job/Object detect/sample.mp4\"\n",
    "capture=cv2.VideoCapture(video_path)\n",
    "frame_get=0\n",
    "while True:\n",
    "    success, img = capture.read()\n",
    "    if not success:\n",
    "        print(\"Frame Not Found\")\n",
    "        break\n",
    "    result=coordinate(img,frame_get)\n",
    "    frame_get+=1\n",
    "    \n",
    "    cv2.imshow('Result',img)\n",
    "    if cv2.waitKey(10) & 0xFF == ord('q'):\n",
    "        break\n",
    "\n",
    "capture.release()\n",
    "cv2.destroyWindow('Result')    "
   ]
  },
  {
   "cell_type": "code",
   "execution_count": null,
   "id": "fd63f2ca",
   "metadata": {},
   "outputs": [],
   "source": []
  }
 ],
 "metadata": {
  "kernelspec": {
   "display_name": "Python 3 (ipykernel)",
   "language": "python",
   "name": "python3"
  },
  "language_info": {
   "codemirror_mode": {
    "name": "ipython",
    "version": 3
   },
   "file_extension": ".py",
   "mimetype": "text/x-python",
   "name": "python",
   "nbconvert_exporter": "python",
   "pygments_lexer": "ipython3",
   "version": "3.11.4"
  }
 },
 "nbformat": 4,
 "nbformat_minor": 5
}
